{
 "cells": [
  {
   "cell_type": "code",
   "execution_count": 1,
   "id": "f81a1740-c825-4769-a106-6c9f5d78dc45",
   "metadata": {},
   "outputs": [],
   "source": [
    "#Q.1 Create a vehicle class with an init method having instance variable as name_of_vehicle,max_speed and avearage_of_vehicle."
   ]
  },
  {
   "cell_type": "code",
   "execution_count": 2,
   "id": "274eade3-c32a-4c11-9cc7-8b806fe3c506",
   "metadata": {},
   "outputs": [],
   "source": [
    "#Ans"
   ]
  },
  {
   "cell_type": "code",
   "execution_count": 5,
   "id": "25c8470d-16a4-40b9-b042-af566dce9082",
   "metadata": {},
   "outputs": [
    {
     "name": "stdout",
     "output_type": "stream",
     "text": [
      "Vehicle Name: Taxi\n",
      "Max Speed: 200 km/h\n",
      "Average: 15 km/l\n"
     ]
    }
   ],
   "source": [
    "class Vehicle:\n",
    "    def __init__(self, name_of_vehicle, max_speed, average_of_vehicle):\n",
    "        self.name_of_vehicle = name_of_vehicle\n",
    "        self.max_speed = max_speed\n",
    "        self.average_of_vehicle = average_of_vehicle\n",
    "\n",
    "    def display_info(self):\n",
    "        print(f\"Vehicle Name: {self.name_of_vehicle}\")\n",
    "        print(f\"Max Speed: {self.max_speed} km/h\")\n",
    "        print(f\"Average: {self.average_of_vehicle} km/l\")\n",
    "\n",
    "car = Vehicle(\"Taxi\", 200, 15)\n",
    "car.display_info()"
   ]
  },
  {
   "cell_type": "code",
   "execution_count": 5,
   "id": "1cbe4a04-c55d-45c5-84a2-7db63bfbfff2",
   "metadata": {},
   "outputs": [],
   "source": [
    "#Q.2 Create a chaild class car from the vehicle class created in Que 1,which will inherit the vehicle class. Create a method named seating_capacity which takes capacity as an argument and returns the name of the vehicle and its seating capacity."
   ]
  },
  {
   "cell_type": "code",
   "execution_count": 6,
   "id": "e93a1504-6b28-4eff-9356-8873600aaec4",
   "metadata": {},
   "outputs": [],
   "source": [
    "#Ans"
   ]
  },
  {
   "cell_type": "code",
   "execution_count": 9,
   "id": "de25306c-89da-48ef-b95c-6a95cc8a0c90",
   "metadata": {},
   "outputs": [
    {
     "name": "stdout",
     "output_type": "stream",
     "text": [
      "2022 Toyota Camry - Doors: 4, Fuel: Gasoline\n",
      "Engine started.\n",
      "Honk! Honk!\n",
      "Engine stopped.\n"
     ]
    }
   ],
   "source": [
    "class Vehicle:\n",
    "    def __init__(self, make, model, year):\n",
    "        self.make = make\n",
    "        self.model = model\n",
    "        self.year = year\n",
    "\n",
    "    def start_engine(self):\n",
    "        return \"Engine started.\"\n",
    "\n",
    "    def stop_engine(self):\n",
    "        return \"Engine stopped.\"\n",
    "\n",
    "    def __str__(self):\n",
    "        return f\"{self.year} {self.make} {self.model}\"\n",
    "\n",
    "\n",
    "class Car(Vehicle):\n",
    "    def __init__(self, make, model, year, number_of_doors, fuel_type):\n",
    "        \n",
    "        super().__init__(make, model, year)\n",
    "        self.number_of_doors = number_of_doors\n",
    "        self.fuel_type = fuel_type\n",
    "\n",
    "    def honk(self):\n",
    "        return \"Honk! Honk!\"\n",
    "\n",
    "    def __str__(self):\n",
    "        \n",
    "        return f\"{super().__str__()} - Doors: {self.number_of_doors}, Fuel: {self.fuel_type}\"\n",
    "\n",
    "my_car = Car(\"Toyota\", \"Camry\", 2022, 4, \"Gasoline\")\n",
    "print(my_car)              \n",
    "print(my_car.start_engine())  \n",
    "print(my_car.honk())         \n",
    "print(my_car.stop_engine())  "
   ]
  },
  {
   "cell_type": "code",
   "execution_count": 10,
   "id": "2f6b5c5e-c5f3-448a-80a5-20e877385d69",
   "metadata": {},
   "outputs": [],
   "source": [
    "#Q.3 What is multiple interitance? Write a python code to demonstrate multiple inheritance."
   ]
  },
  {
   "cell_type": "code",
   "execution_count": 11,
   "id": "cdeac80b-ab74-460c-88c0-33ff1cb70272",
   "metadata": {},
   "outputs": [],
   "source": [
    "#Ans"
   ]
  },
  {
   "cell_type": "code",
   "execution_count": 12,
   "id": "1208fbf0-804d-4709-9225-278f8df67dbf",
   "metadata": {},
   "outputs": [
    {
     "name": "stdout",
     "output_type": "stream",
     "text": [
      "2024 Honda Civic\n",
      "Engine started.\n",
      "Playing music.\n",
      "Music stopped.\n",
      "Engine stopped.\n"
     ]
    }
   ],
   "source": [
    "class Engine:\n",
    "    def start_engine(self):\n",
    "        return \"Engine started.\"\n",
    "\n",
    "    def stop_engine(self):\n",
    "        return \"Engine stopped.\"\n",
    "\n",
    "\n",
    "class Radio:\n",
    "    def play_music(self):\n",
    "        return \"Playing music.\"\n",
    "\n",
    "    def stop_music(self):\n",
    "        return \"Music stopped.\"\n",
    "\n",
    "\n",
    "class Car(Engine, Radio):\n",
    "    def __init__(self, make, model, year):\n",
    "        self.make = make\n",
    "        self.model = model\n",
    "        self.year = year\n",
    "\n",
    "    def __str__(self):\n",
    "        return f\"{self.year} {self.make} {self.model}\"\n",
    "\n",
    "\n",
    "my_car = Car(\"Honda\", \"Civic\", 2024)\n",
    "print(my_car)                 \n",
    "print(my_car.start_engine()) \n",
    "print(my_car.play_music())   \n",
    "print(my_car.stop_music())     \n",
    "print(my_car.stop_engine())    "
   ]
  },
  {
   "cell_type": "code",
   "execution_count": 13,
   "id": "e5d775c1-dea9-40cc-9070-1880c59fbdcc",
   "metadata": {},
   "outputs": [],
   "source": [
    "#Q.4 What are getter and setter in python ? Create a class and create a getter and a setter method in this class."
   ]
  },
  {
   "cell_type": "code",
   "execution_count": 14,
   "id": "fd56e1d2-37de-4d0a-9e74-330af378b714",
   "metadata": {},
   "outputs": [],
   "source": [
    "#Ans"
   ]
  },
  {
   "cell_type": "code",
   "execution_count": 15,
   "id": "9ae64d5d-21ff-408b-8d23-1189b80f7e77",
   "metadata": {},
   "outputs": [
    {
     "name": "stdout",
     "output_type": "stream",
     "text": [
      "Name: Alice, Age: 30\n",
      "Alice\n",
      "Name: Bob, Age: 30\n",
      "Age must be an integer between 0 and 120.\n"
     ]
    }
   ],
   "source": [
    "class Person:\n",
    "    def __init__(self, name, age):\n",
    "        self._name = name\n",
    "        self._age = age\n",
    "\n",
    "    \n",
    "    @property\n",
    "    def name(self):\n",
    "        return self._name\n",
    "\n",
    "    \n",
    "    @name.setter\n",
    "    def name(self, value):\n",
    "        if isinstance(value, str) and value:\n",
    "            self._name = value\n",
    "        else:\n",
    "            raise ValueError(\"Name must be a non-empty string.\")\n",
    "\n",
    "    @property\n",
    "    def age(self):\n",
    "        return self._age\n",
    "\n",
    "    \n",
    "    @age.setter\n",
    "    def age(self, value):\n",
    "        if isinstance(value, int) and 0 <= value <= 120:\n",
    "            self._age = value\n",
    "        else:\n",
    "            raise ValueError(\"Age must be an integer between 0 and 120.\")\n",
    "\n",
    "    def __str__(self):\n",
    "        return f\"Name: {self.name}, Age: {self.age}\"\n",
    "\n",
    "\n",
    "person = Person(\"Alice\", 30)\n",
    "print(person)          \n",
    "\n",
    "\n",
    "print(person.name)   \n",
    "person.name = \"Bob\"\n",
    "print(person)         \n",
    "\n",
    "\n",
    "try:\n",
    "    person.age = 125  \n",
    "except ValueError as e:\n",
    "    print(e)          "
   ]
  },
  {
   "cell_type": "code",
   "execution_count": 16,
   "id": "d6bc7151-b6f4-4eb7-b732-105defa56a93",
   "metadata": {},
   "outputs": [],
   "source": [
    "#Q.5 What is method overriding in python? Write a python code to demonstate method overriding."
   ]
  },
  {
   "cell_type": "code",
   "execution_count": 17,
   "id": "4aebaf47-c3a0-428f-9077-ad9570a2ddc0",
   "metadata": {},
   "outputs": [],
   "source": [
    "#Ans"
   ]
  },
  {
   "cell_type": "code",
   "execution_count": 18,
   "id": "efa57873-49cb-4e4d-858c-960b0fdd1d9a",
   "metadata": {},
   "outputs": [
    {
     "name": "stdout",
     "output_type": "stream",
     "text": [
      "Some generic animal sound.\n",
      "Woof!\n",
      "Meow!\n"
     ]
    }
   ],
   "source": [
    "class Animal:\n",
    "    def speak(self):\n",
    "        return \"Some generic animal sound.\"\n",
    "\n",
    "class Dog(Animal):\n",
    "    def speak(self):\n",
    "        return \"Woof!\"\n",
    "\n",
    "class Cat(Animal):\n",
    "    def speak(self):\n",
    "        return \"Meow!\"\n",
    "\n",
    "def make_animal_speak(animal):\n",
    "    print(animal.speak())\n",
    "\n",
    "generic_animal = Animal()\n",
    "dog = Dog()\n",
    "cat = Cat()\n",
    "\n",
    "\n",
    "make_animal_speak(generic_animal)  \n",
    "make_animal_speak(dog)             \n",
    "make_animal_speak(cat)             "
   ]
  }
 ],
 "metadata": {
  "kernelspec": {
   "display_name": "Python 3 (ipykernel)",
   "language": "python",
   "name": "python3"
  },
  "language_info": {
   "codemirror_mode": {
    "name": "ipython",
    "version": 3
   },
   "file_extension": ".py",
   "mimetype": "text/x-python",
   "name": "python",
   "nbconvert_exporter": "python",
   "pygments_lexer": "ipython3",
   "version": "3.10.8"
  }
 },
 "nbformat": 4,
 "nbformat_minor": 5
}
